{
 "cells": [
  {
   "cell_type": "markdown",
   "id": "46a29d70",
   "metadata": {},
   "source": [
    "# Attempting Random Forest"
   ]
  },
  {
   "cell_type": "code",
   "execution_count": 10,
   "id": "2f67ba1c",
   "metadata": {},
   "outputs": [],
   "source": [
    "from sklearn.ensemble import RandomForestClassifier\n",
    "from sklearn.metrics import f1_score\n",
    "import pandas as pd"
   ]
  },
  {
   "cell_type": "code",
   "execution_count": 12,
   "id": "451cdf3e",
   "metadata": {},
   "outputs": [],
   "source": [
    "train=pd.read_excel(\"/home/ab1/Desktop/SPH6004/Assignment2/Timestep5_train.xlsx\",)\n",
    "test=pd.read_excel(\"/home/ab1/Desktop/SPH6004/Assignment2/Timestep5_test.xlsx\")\n",
    "holdout=pd.read_excel(\"/home/ab1/Desktop/SPH6004/Assignment2/Timestep5_holdout.xlsx\")"
   ]
  },
  {
   "cell_type": "code",
   "execution_count": 7,
   "id": "e45b8849",
   "metadata": {},
   "outputs": [
    {
     "data": {
      "text/plain": [
       "icu_cat\n",
       "0    31240\n",
       "1    20990\n",
       "2    19215\n",
       "Name: count, dtype: int64"
      ]
     },
     "execution_count": 7,
     "metadata": {},
     "output_type": "execute_result"
    }
   ],
   "source": [
    "train[\"icu_cat\"].value_counts()"
   ]
  },
  {
   "cell_type": "code",
   "execution_count": 13,
   "id": "19968de0",
   "metadata": {},
   "outputs": [],
   "source": [
    "train_sorted = train.sort_values(by=['id', 'charttime'])\n",
    "train = train_sorted.groupby('id').tail(1).reset_index(drop=True)\n",
    "\n",
    "test_sorted = test.sort_values(by=['id', 'charttime'])\n",
    "test = test_sorted.groupby('id').tail(1).reset_index(drop=True)\n",
    "\n",
    "holdout_sorted = holdout.sort_values(by=['id', 'charttime'])\n",
    "holdout = holdout_sorted.groupby('id').tail(1).reset_index(drop=True)"
   ]
  },
  {
   "cell_type": "code",
   "execution_count": 14,
   "id": "a02b84c8",
   "metadata": {},
   "outputs": [],
   "source": [
    "train['id'] = train['id'].astype(str)\n",
    "test['id'] = test['id'].astype(str)\n",
    "x_train=train.drop(['los_icu','id','charttime',\"icu_death\",\"icu_intime\",\"icu_outtime\",'hosp_admittime', 'hosp_dischtime',\"hour\",\"race\",\"icu_cat\"], axis=1)\n",
    "y_train=train['icu_cat']\n",
    "\n",
    "\n",
    "\n",
    "x_test=test.drop(['los_icu','id','charttime',\"icu_death\",\"icu_intime\",\"icu_outtime\",'hosp_admittime', 'hosp_dischtime',\"hour\",\"race\",\"icu_cat\"], axis=1)\n",
    "y_test=test['icu_cat']\n",
    "\n"
   ]
  },
  {
   "cell_type": "code",
   "execution_count": 32,
   "id": "cdc432c2",
   "metadata": {},
   "outputs": [
    {
     "data": {
      "text/plain": [
       "0        1\n",
       "1        2\n",
       "2        2\n",
       "3        1\n",
       "4        1\n",
       "        ..\n",
       "14284    1\n",
       "14285    1\n",
       "14286    0\n",
       "14287    2\n",
       "14288    2\n",
       "Name: icu_cat, Length: 14289, dtype: int64"
      ]
     },
     "execution_count": 32,
     "metadata": {},
     "output_type": "execute_result"
    }
   ],
   "source": [
    "y_train"
   ]
  },
  {
   "cell_type": "code",
   "execution_count": 91,
   "id": "b28db7dc",
   "metadata": {},
   "outputs": [],
   "source": [
    "x_holdout=holdout.drop(['los_icu','id','charttime',\"icu_death\",\"icu_intime\",\"icu_outtime\",'hosp_admittime', 'hosp_dischtime',\"hour\",\"race\",\"icu_cat\"], axis=1)\n",
    "y_holdout=holdout['icu_cat']"
   ]
  },
  {
   "cell_type": "code",
   "execution_count": 16,
   "id": "800313f1",
   "metadata": {},
   "outputs": [
    {
     "data": {
      "text/html": [
       "<style>#sk-container-id-1 {color: black;}#sk-container-id-1 pre{padding: 0;}#sk-container-id-1 div.sk-toggleable {background-color: white;}#sk-container-id-1 label.sk-toggleable__label {cursor: pointer;display: block;width: 100%;margin-bottom: 0;padding: 0.3em;box-sizing: border-box;text-align: center;}#sk-container-id-1 label.sk-toggleable__label-arrow:before {content: \"▸\";float: left;margin-right: 0.25em;color: #696969;}#sk-container-id-1 label.sk-toggleable__label-arrow:hover:before {color: black;}#sk-container-id-1 div.sk-estimator:hover label.sk-toggleable__label-arrow:before {color: black;}#sk-container-id-1 div.sk-toggleable__content {max-height: 0;max-width: 0;overflow: hidden;text-align: left;background-color: #f0f8ff;}#sk-container-id-1 div.sk-toggleable__content pre {margin: 0.2em;color: black;border-radius: 0.25em;background-color: #f0f8ff;}#sk-container-id-1 input.sk-toggleable__control:checked~div.sk-toggleable__content {max-height: 200px;max-width: 100%;overflow: auto;}#sk-container-id-1 input.sk-toggleable__control:checked~label.sk-toggleable__label-arrow:before {content: \"▾\";}#sk-container-id-1 div.sk-estimator input.sk-toggleable__control:checked~label.sk-toggleable__label {background-color: #d4ebff;}#sk-container-id-1 div.sk-label input.sk-toggleable__control:checked~label.sk-toggleable__label {background-color: #d4ebff;}#sk-container-id-1 input.sk-hidden--visually {border: 0;clip: rect(1px 1px 1px 1px);clip: rect(1px, 1px, 1px, 1px);height: 1px;margin: -1px;overflow: hidden;padding: 0;position: absolute;width: 1px;}#sk-container-id-1 div.sk-estimator {font-family: monospace;background-color: #f0f8ff;border: 1px dotted black;border-radius: 0.25em;box-sizing: border-box;margin-bottom: 0.5em;}#sk-container-id-1 div.sk-estimator:hover {background-color: #d4ebff;}#sk-container-id-1 div.sk-parallel-item::after {content: \"\";width: 100%;border-bottom: 1px solid gray;flex-grow: 1;}#sk-container-id-1 div.sk-label:hover label.sk-toggleable__label {background-color: #d4ebff;}#sk-container-id-1 div.sk-serial::before {content: \"\";position: absolute;border-left: 1px solid gray;box-sizing: border-box;top: 0;bottom: 0;left: 50%;z-index: 0;}#sk-container-id-1 div.sk-serial {display: flex;flex-direction: column;align-items: center;background-color: white;padding-right: 0.2em;padding-left: 0.2em;position: relative;}#sk-container-id-1 div.sk-item {position: relative;z-index: 1;}#sk-container-id-1 div.sk-parallel {display: flex;align-items: stretch;justify-content: center;background-color: white;position: relative;}#sk-container-id-1 div.sk-item::before, #sk-container-id-1 div.sk-parallel-item::before {content: \"\";position: absolute;border-left: 1px solid gray;box-sizing: border-box;top: 0;bottom: 0;left: 50%;z-index: -1;}#sk-container-id-1 div.sk-parallel-item {display: flex;flex-direction: column;z-index: 1;position: relative;background-color: white;}#sk-container-id-1 div.sk-parallel-item:first-child::after {align-self: flex-end;width: 50%;}#sk-container-id-1 div.sk-parallel-item:last-child::after {align-self: flex-start;width: 50%;}#sk-container-id-1 div.sk-parallel-item:only-child::after {width: 0;}#sk-container-id-1 div.sk-dashed-wrapped {border: 1px dashed gray;margin: 0 0.4em 0.5em 0.4em;box-sizing: border-box;padding-bottom: 0.4em;background-color: white;}#sk-container-id-1 div.sk-label label {font-family: monospace;font-weight: bold;display: inline-block;line-height: 1.2em;}#sk-container-id-1 div.sk-label-container {text-align: center;}#sk-container-id-1 div.sk-container {/* jupyter's `normalize.less` sets `[hidden] { display: none; }` but bootstrap.min.css set `[hidden] { display: none !important; }` so we also need the `!important` here to be able to override the default hidden behavior on the sphinx rendered scikit-learn.org. See: https://github.com/scikit-learn/scikit-learn/issues/21755 */display: inline-block !important;position: relative;}#sk-container-id-1 div.sk-text-repr-fallback {display: none;}</style><div id=\"sk-container-id-1\" class=\"sk-top-container\"><div class=\"sk-text-repr-fallback\"><pre>RandomForestClassifier(max_depth=8, min_samples_split=10, random_state=26)</pre><b>In a Jupyter environment, please rerun this cell to show the HTML representation or trust the notebook. <br />On GitHub, the HTML representation is unable to render, please try loading this page with nbviewer.org.</b></div><div class=\"sk-container\" hidden><div class=\"sk-item\"><div class=\"sk-estimator sk-toggleable\"><input class=\"sk-toggleable__control sk-hidden--visually\" id=\"sk-estimator-id-1\" type=\"checkbox\" checked><label for=\"sk-estimator-id-1\" class=\"sk-toggleable__label sk-toggleable__label-arrow\">RandomForestClassifier</label><div class=\"sk-toggleable__content\"><pre>RandomForestClassifier(max_depth=8, min_samples_split=10, random_state=26)</pre></div></div></div></div></div>"
      ],
      "text/plain": [
       "RandomForestClassifier(max_depth=8, min_samples_split=10, random_state=26)"
      ]
     },
     "execution_count": 16,
     "metadata": {},
     "output_type": "execute_result"
    }
   ],
   "source": [
    "\n",
    "\n",
    "rf = RandomForestClassifier(\n",
    "    max_depth=8, \n",
    "    min_samples_split=10,\n",
    "    n_estimators=100,\n",
    "    random_state=26, \n",
    ")\n",
    "\n",
    "rf.fit(x_train, y_train)"
   ]
  },
  {
   "cell_type": "markdown",
   "id": "70af8835",
   "metadata": {},
   "source": [
    "# Feature selection for Random Forest"
   ]
  },
  {
   "cell_type": "code",
   "execution_count": 17,
   "id": "126e85c6",
   "metadata": {},
   "outputs": [
    {
     "name": "stdout",
     "output_type": "stream",
     "text": [
      "Feature ranking:\n",
      "1. Feature height: 0.20968453082801597\n",
      "2. Feature wbc: 0.051068383962380635\n",
      "3. Feature creatinine: 0.03841463336300109\n",
      "4. Feature bun: 0.03745503244154296\n",
      "5. Feature glucose: 0.03615942521323393\n",
      "6. Feature bicarbonate: 0.033619160751938555\n",
      "7. Feature admission_age: 0.033455315581277366\n",
      "8. Feature platelet: 0.030687701342055573\n",
      "9. Feature admission_type_URGENT: 0.030356326438053853\n",
      "10. Feature weight_admit: 0.0279239836959183\n",
      "11. Feature mchc: 0.02755606130591347\n",
      "12. Feature rdw: 0.02629119267071876\n",
      "13. Feature calcium: 0.025411803309975594\n",
      "14. Feature sodium: 0.025402306040144075\n",
      "15. Feature ptt: 0.024345038505299052\n",
      "16. Feature hematocrit: 0.023962510913956094\n",
      "17. Feature rbc: 0.023789834428181906\n",
      "18. Feature pt: 0.02356569422519047\n",
      "19. Feature aniongap: 0.022964338712911606\n",
      "20. Feature potassium: 0.02275465372528924\n",
      "21. Feature hemoglobin: 0.021482575150983885\n",
      "22. Feature mch: 0.021297926823189484\n",
      "23. Feature chloride: 0.01989929115498897\n",
      "24. Feature mcv: 0.018272558873530062\n",
      "25. Feature charlson_score: 0.016469003673022346\n",
      "26. Feature inr: 0.015751544426197715\n",
      "27. Feature first_careunit_Neuro Surgical Intensive Care Unit (Neuro SICU): 0.010837848706835443\n",
      "28. Feature first_careunit_Cardiac Vascular Intensive Care Unit (CVICU): 0.009622404027732878\n",
      "29. Feature gender: 0.008424666306758874\n",
      "30. Feature first_careunit_Medical/Surgical Intensive Care Unit (MICU/SICU): 0.0058227633485130065\n",
      "31. Feature ckd: 0.005467785769691578\n",
      "32. Feature race_encode_Not Specified: 0.004928029654769659\n",
      "33. Feature admission_type_SURGICAL SAME DAY ADMISSION: 0.0048602997436459254\n",
      "34. Feature diabetes: 0.004261880895423033\n",
      "35. Feature admission_type_EW EMER.: 0.003607342035521291\n",
      "36. Feature ihd: 0.003540663315627989\n",
      "37. Feature stroke: 0.003531286291243464\n",
      "38. Feature first_careunit_Surgical Intensive Care Unit (SICU): 0.003443354379066465\n",
      "39. Feature first_careunit_Trauma SICU (TSICU): 0.0033321398121122165\n",
      "40. Feature malignant_cancer: 0.0033119463120295143\n",
      "41. Feature atrial_fibrillation: 0.003077736832426487\n",
      "42. Feature race_encode_Caucasian: 0.003009655197602205\n",
      "43. Feature hypertension: 0.0029175548886323606\n",
      "44. Feature chf: 0.0028757153771001814\n",
      "45. Feature cld: 0.0028724949793390337\n",
      "46. Feature first_careunit_Medical Intensive Care Unit (MICU): 0.0027826394921055615\n",
      "47. Feature admission_type_ELECTIVE: 0.0026743557877286547\n",
      "48. Feature race_encode_African: 0.002643604824508345\n",
      "49. Feature first_careunit_Neuro Intermediate: 0.0025666941900240954\n",
      "50. Feature first_careunit_Coronary Care Unit (CCU): 0.002553802219983535\n",
      "51. Feature copd: 0.0025181432813598465\n",
      "52. Feature admission_type_OBSERVATION ADMIT: 0.0021278861668628\n",
      "53. Feature race_encode_Hispanic: 0.0015210873671615405\n",
      "54. Feature race_encode_Asian: 0.0014670340171824233\n",
      "55. Feature admission_type_DIRECT EMER.: 0.0010545988745798143\n",
      "56. Feature first_careunit_Neuro Stepdown: 0.0002199854912234248\n",
      "57. Feature admission_type_EU OBSERVATION: 4.5522311062924044e-05\n",
      "58. Feature race_encode_South American: 3.825054523431279e-05\n",
      "59. Feature admission_type_DIRECT OBSERVATION: 0.0\n"
     ]
    }
   ],
   "source": [
    "# Getting feature importance\n",
    "feature_importances = rf.feature_importances_\n",
    "\n",
    "sorted_indices = feature_importances.argsort()[::-1]\n",
    "feature_ranking = []\n",
    "feature_ranking_total = []\n",
    "print(\"Feature ranking:\")\n",
    "for i, idx in enumerate(sorted_indices):\n",
    "    print(f\"{i+1}. Feature {x_train.columns[idx]}: {feature_importances[idx]}\")\n",
    "    feature_ranking.append(x_train.columns[idx])\n",
    "    feature_ranking_total.append(x_train.columns[idx])"
   ]
  },
  {
   "cell_type": "code",
   "execution_count": 18,
   "id": "8e589d1d",
   "metadata": {},
   "outputs": [],
   "source": [
    "\n",
    "\n",
    "def forward_feature_selection_f1_test(X, y, X_test, y_test, feature_ranking, model, metric, max_features=None):\n",
    "    selected_features = []\n",
    "    best_performance = float('-inf')\n",
    "    \n",
    "    if max_features is None:\n",
    "        max_features = len(feature_ranking)\n",
    "    \n",
    "    for feature in feature_ranking:\n",
    "        selected_features.append(feature)\n",
    "        X_subset = X[selected_features]\n",
    "        \n",
    "        # Train model\n",
    "        model.fit(X_subset, y)\n",
    "        \n",
    "        # Evaluate performance\n",
    "        y_pred = model.predict(X_test[selected_features])\n",
    "        performance = metric(y_test, model.predict(X_test[selected_features]), pos_label=1, average='macro')\n",
    "        \n",
    "        # Check if performance improved\n",
    "        if performance > best_performance:\n",
    "            best_performance = performance\n",
    "            if len(selected_features) == max_features:\n",
    "                break\n",
    "        elif performance <= best_performance:\n",
    "            selected_features.pop()\n",
    "            break\n",
    "    \n",
    "    return selected_features, best_performance"
   ]
  },
  {
   "cell_type": "code",
   "execution_count": 19,
   "id": "b85fd08d",
   "metadata": {},
   "outputs": [
    {
     "data": {
      "text/plain": [
       "(['height'], 0.36996916425447735)"
      ]
     },
     "execution_count": 19,
     "metadata": {},
     "output_type": "execute_result"
    }
   ],
   "source": [
    "forward_feature_selection_f1_test(x_train, y_train, x_test, y_test, feature_ranking, rf, f1_score, max_features=None)"
   ]
  },
  {
   "cell_type": "code",
   "execution_count": 20,
   "id": "6733b112",
   "metadata": {},
   "outputs": [
    {
     "name": "stdout",
     "output_type": "stream",
     "text": [
      "['height', 'wbc', 'creatinine', 'bun', 'glucose', 'bicarbonate', 'admission_age', 'platelet', 'admission_type_URGENT', 'weight_admit', 'mchc', 'rdw', 'calcium', 'sodium', 'ptt', 'hematocrit', 'rbc', 'pt', 'aniongap', 'potassium', 'hemoglobin', 'mch', 'chloride', 'mcv', 'charlson_score', 'inr', 'first_careunit_Neuro Surgical Intensive Care Unit (Neuro SICU)', 'first_careunit_Cardiac Vascular Intensive Care Unit (CVICU)', 'gender', 'first_careunit_Medical/Surgical Intensive Care Unit (MICU/SICU)', 'ckd', 'race_encode_Not Specified', 'admission_type_SURGICAL SAME DAY ADMISSION', 'diabetes', 'admission_type_EW EMER.', 'ihd', 'stroke', 'first_careunit_Surgical Intensive Care Unit (SICU)', 'first_careunit_Trauma SICU (TSICU)', 'malignant_cancer', 'atrial_fibrillation', 'race_encode_Caucasian', 'hypertension', 'chf', 'cld', 'first_careunit_Medical Intensive Care Unit (MICU)', 'admission_type_ELECTIVE', 'race_encode_African', 'first_careunit_Neuro Intermediate', 'first_careunit_Coronary Care Unit (CCU)', 'copd', 'admission_type_OBSERVATION ADMIT', 'race_encode_Hispanic', 'race_encode_Asian', 'admission_type_DIRECT EMER.', 'first_careunit_Neuro Stepdown', 'admission_type_EU OBSERVATION', 'race_encode_South American', 'admission_type_DIRECT OBSERVATION']\n"
     ]
    }
   ],
   "source": [
    "print(feature_ranking)"
   ]
  },
  {
   "cell_type": "code",
   "execution_count": 21,
   "id": "090fa71d",
   "metadata": {},
   "outputs": [],
   "source": [
    "def backward_feature_selection_roc_test(X, y, X_test, y_test, feature_ranking, model, metric):\n",
    "    \n",
    "    best_performance = float('-inf')\n",
    "    selected_features = feature_ranking.copy()\n",
    "    model.fit(X, y) \n",
    "    y_pred = model.predict(X_test)\n",
    "    best_performance = metric(y_test, model.predict(X_test), pos_label=1, average='macro')\n",
    "    for i in range(len(feature_ranking)-1):\n",
    "        last_feature = selected_features.pop()\n",
    "        model.fit(X[selected_features], y) \n",
    "        y_pred = model.predict(X_test[selected_features])\n",
    "        performance = metric(y_test, model.predict(X_test[selected_features]), pos_label=1, average='macro')\n",
    "        if best_performance - performance < 0.002:\n",
    "            best_performance = performance\n",
    "        else:\n",
    "            selected_features.append(last_feature)\n",
    "            break\n",
    "\n",
    "    \n",
    "    return selected_features, best_performance"
   ]
  },
  {
   "cell_type": "code",
   "execution_count": 22,
   "id": "a0b0d5a8",
   "metadata": {
    "scrolled": true
   },
   "outputs": [
    {
     "data": {
      "text/plain": [
       "(['height',\n",
       "  'wbc',\n",
       "  'creatinine',\n",
       "  'bun',\n",
       "  'glucose',\n",
       "  'bicarbonate',\n",
       "  'admission_age',\n",
       "  'platelet',\n",
       "  'admission_type_URGENT',\n",
       "  'weight_admit',\n",
       "  'mchc',\n",
       "  'rdw',\n",
       "  'calcium',\n",
       "  'sodium',\n",
       "  'ptt',\n",
       "  'hematocrit',\n",
       "  'rbc',\n",
       "  'pt',\n",
       "  'aniongap',\n",
       "  'potassium',\n",
       "  'hemoglobin',\n",
       "  'mch',\n",
       "  'chloride',\n",
       "  'mcv',\n",
       "  'charlson_score',\n",
       "  'inr',\n",
       "  'first_careunit_Neuro Surgical Intensive Care Unit (Neuro SICU)',\n",
       "  'first_careunit_Cardiac Vascular Intensive Care Unit (CVICU)',\n",
       "  'gender',\n",
       "  'first_careunit_Medical/Surgical Intensive Care Unit (MICU/SICU)',\n",
       "  'ckd',\n",
       "  'race_encode_Not Specified',\n",
       "  'admission_type_SURGICAL SAME DAY ADMISSION',\n",
       "  'diabetes',\n",
       "  'admission_type_EW EMER.',\n",
       "  'ihd',\n",
       "  'stroke',\n",
       "  'first_careunit_Surgical Intensive Care Unit (SICU)',\n",
       "  'first_careunit_Trauma SICU (TSICU)',\n",
       "  'malignant_cancer',\n",
       "  'atrial_fibrillation',\n",
       "  'race_encode_Caucasian',\n",
       "  'hypertension',\n",
       "  'chf',\n",
       "  'cld',\n",
       "  'first_careunit_Medical Intensive Care Unit (MICU)',\n",
       "  'admission_type_ELECTIVE',\n",
       "  'race_encode_African',\n",
       "  'first_careunit_Neuro Intermediate',\n",
       "  'first_careunit_Coronary Care Unit (CCU)',\n",
       "  'copd',\n",
       "  'admission_type_OBSERVATION ADMIT',\n",
       "  'race_encode_Hispanic',\n",
       "  'race_encode_Asian',\n",
       "  'admission_type_DIRECT EMER.',\n",
       "  'first_careunit_Neuro Stepdown',\n",
       "  'admission_type_EU OBSERVATION',\n",
       "  'race_encode_South American',\n",
       "  'admission_type_DIRECT OBSERVATION'],\n",
       " 0.33879963380031014)"
      ]
     },
     "execution_count": 22,
     "metadata": {},
     "output_type": "execute_result"
    }
   ],
   "source": [
    "backward_feature_selection_roc_test(x_train, y_train, x_test, y_test, feature_ranking, rf, f1_score)"
   ]
  },
  {
   "cell_type": "code",
   "execution_count": 23,
   "id": "239e6fc0",
   "metadata": {},
   "outputs": [
    {
     "name": "stdout",
     "output_type": "stream",
     "text": [
      "[1, 0, 0, 0, 0, 0, 0, 0, 0, 0, 0, 0, 0, 0, 0, 0, 0, 0, 0, 0, 0, 0, 0, 0, 0, 0, 0, 0, 0, 0, 0, 0, 0, 0, 0, 0, 0, 0, 0, 0, 0, 0, 0, 0, 0, 0, 0, 0, 0, 0, 0, 0, 0, 0, 0, 0, 0, 0, 0]\n",
      "[1, 1, 1, 1, 1, 1, 1, 1, 1, 1, 1, 1, 1, 1, 1, 1, 1, 1, 1, 1, 1, 1, 1, 1, 1, 1, 1, 1, 1, 1, 1, 1, 1, 1, 1, 1, 1, 1, 1, 1, 1, 1, 1, 1, 1, 1, 1, 1, 1, 1, 1, 1, 1, 1, 1, 1, 1, 1, 1]\n"
     ]
    }
   ],
   "source": [
    "# generating the first 2 parent chromosomes for genetic feature selection algorithm\n",
    "\n",
    "forward_features = ['height']\n",
    "\n",
    "backward_features = ['height',\n",
    "  'wbc',\n",
    "  'creatinine',\n",
    "  'bun',\n",
    "  'glucose',\n",
    "  'bicarbonate',\n",
    "  'admission_age',\n",
    "  'platelet',\n",
    "  'admission_type_URGENT',\n",
    "  'weight_admit',\n",
    "  'mchc',\n",
    "  'rdw',\n",
    "  'calcium',\n",
    "  'sodium',\n",
    "  'ptt',\n",
    "  'hematocrit',\n",
    "  'rbc',\n",
    "  'pt',\n",
    "  'aniongap',\n",
    "  'potassium',\n",
    "  'hemoglobin',\n",
    "  'mch',\n",
    "  'chloride',\n",
    "  'mcv',\n",
    "  'charlson_score',\n",
    "  'inr',\n",
    "  'first_careunit_Neuro Surgical Intensive Care Unit (Neuro SICU)',\n",
    "  'first_careunit_Cardiac Vascular Intensive Care Unit (CVICU)',\n",
    "  'gender',\n",
    "  'first_careunit_Medical/Surgical Intensive Care Unit (MICU/SICU)',\n",
    "  'ckd',\n",
    "  'race_encode_Not Specified',\n",
    "  'admission_type_SURGICAL SAME DAY ADMISSION',\n",
    "  'diabetes',\n",
    "  'admission_type_EW EMER.',\n",
    "  'ihd',\n",
    "  'stroke',\n",
    "  'first_careunit_Surgical Intensive Care Unit (SICU)',\n",
    "  'first_careunit_Trauma SICU (TSICU)',\n",
    "  'malignant_cancer',\n",
    "  'atrial_fibrillation',\n",
    "  'race_encode_Caucasian',\n",
    "  'hypertension',\n",
    "  'chf',\n",
    "  'cld',\n",
    "  'first_careunit_Medical Intensive Care Unit (MICU)',\n",
    "  'admission_type_ELECTIVE',\n",
    "  'race_encode_African',\n",
    "  'first_careunit_Neuro Intermediate',\n",
    "  'first_careunit_Coronary Care Unit (CCU)',\n",
    "  'copd',\n",
    "  'admission_type_OBSERVATION ADMIT',\n",
    "  'race_encode_Hispanic',\n",
    "  'race_encode_Asian',\n",
    "  'admission_type_DIRECT EMER.',\n",
    "  'first_careunit_Neuro Stepdown',\n",
    "  'admission_type_EU OBSERVATION',\n",
    "  'race_encode_South American',\n",
    "  'admission_type_DIRECT OBSERVATION']\n",
    "\n",
    "forward_parent_chromosome = [1 if feature in forward_features else 0 for feature in feature_ranking_total]\n",
    "backward_parent_chromosome = [1 if feature in backward_features else 0 for feature in feature_ranking_total]\n",
    "print(forward_parent_chromosome)\n",
    "print(backward_parent_chromosome)"
   ]
  },
  {
   "cell_type": "code",
   "execution_count": 24,
   "id": "3080dfc2",
   "metadata": {},
   "outputs": [],
   "source": [
    "column_list = x_train.columns.tolist()"
   ]
  },
  {
   "cell_type": "code",
   "execution_count": 47,
   "id": "da77aad0",
   "metadata": {},
   "outputs": [
    {
     "data": {
      "text/plain": [
       "59"
      ]
     },
     "execution_count": 47,
     "metadata": {},
     "output_type": "execute_result"
    }
   ],
   "source": [
    "len(forward_parent_chromosome)"
   ]
  },
  {
   "cell_type": "code",
   "execution_count": 25,
   "id": "89e8e149",
   "metadata": {},
   "outputs": [],
   "source": [
    "from geneal.genetic_algorithms import BinaryGenAlgSolver"
   ]
  },
  {
   "cell_type": "code",
   "execution_count": null,
   "id": "d3dac19b",
   "metadata": {},
   "outputs": [],
   "source": []
  },
  {
   "cell_type": "code",
   "execution_count": 39,
   "id": "d70b621b",
   "metadata": {},
   "outputs": [],
   "source": [
    "\n",
    "\n",
    "class MyBinaryGenAlgSolver(BinaryGenAlgSolver):\n",
    "    def __init__(self, *args, **kwargs):\n",
    "        super().__init__(*args, **kwargs)\n",
    "\n",
    "    def fitness_function(self, chromosome):\n",
    "        selected_features = np.where(chromosome)[0]\n",
    "        selected_features_list = []\n",
    "        for i in selected_features:\n",
    "            selected_features_list.append(column_list[i])\n",
    "        x_train_subset = x_train[selected_features_list]\n",
    "    \n",
    "        rf.fit(x_train_subset, y_train)\n",
    "\n",
    "        x_test_subset = x_test[selected_features_list]\n",
    "\n",
    "        y_pred =  rf.predict(x_test_subset)\n",
    "\n",
    "        # Calculate AUROC as the fitness score\n",
    "        f1 = f1_score(y_test, y_pred, pos_label=1, average='macro')\n",
    "\n",
    "        return f1\n",
    "        \"\"\"\n",
    "        Example fitness function.\n",
    "        \"\"\"\n",
    "        # This is just a placeholder. You should implement your own fitness function logic here.\n",
    "        # For example, you could compute a score based on the number of ones in the chromosome.\n",
    "        #return np.sum(chromosome)\n",
    "\n",
    "    def initialize_population(self):\n",
    "        \"\"\"\n",
    "        Initializes the population of the problem.\n",
    "        \"\"\"\n",
    "        # Randomly initialize the population using numpy's random.randint method.\n",
    "        forward_parent_chromosome = [1, 0, 0, 0, 0, 0, 0, 0, 0, 0, 0, 0, 0, 0, 0, 0, 0, 0, 0, 0, 0, 0, 0, 0, 0, 0, 0, 0, 0, 0, 0, 0, 0, 0, 0, 0, 0, 0, 0, 0, 0, 0, 0, 0, 0, 0, 0, 0, 0, 0, 0, 0, 0, 0, 0, 0, 0, 0, 0]\n",
    "        backward_parent_chromosome =[1, 1, 1, 1, 1, 1, 1, 1, 1, 1, 1, 1, 1, 1, 1, 1, 1, 1, 1, 1, 1, 1, 1, 1, 1, 1, 1, 1, 1, 1, 1, 1, 1, 1, 1, 1, 1, 1, 1, 1, 1, 1, 1, 1, 1, 1, 1, 1, 1, 1, 1, 1, 1, 1, 1, 1, 1, 1, 1]\n",
    "        bits_array = [forward_parent_chromosome, backward_parent_chromosome]\n",
    "        \n",
    "\n",
    "        for _ in range(self.pop_size-2):\n",
    "            bits = np.zeros(self.n_genes)\n",
    "            bits[: np.random.randint(0, self.n_genes)] = 1\n",
    "            np.random.shuffle(bits)\n",
    "\n",
    "            bits_array.append(bits)\n",
    "\n",
    "        return np.array(bits_array)\n",
    "\n",
    "    def create_offspring(self, first_parent, sec_parent, crossover_pt, offspring_number):\n",
    "        \"\"\"\n",
    "        Creates an offspring from 2 parents with a random crossover point based on a probability.\n",
    "\n",
    "        :param first_parent: The chromosome of the first parent.\n",
    "        :param sec_parent: The chromosome of the second parent.\n",
    "        :param crossover_prob: The probability of crossover.\n",
    "        :return: The resulting offspring chromosome.\n",
    "        \"\"\"\n",
    "        n_genes = len(first_parent)\n",
    "        crossover_mask = np.random.rand(n_genes) < 0.5\n",
    "\n",
    "    # Select a random crossover point\n",
    "        crossover_pt = np.random.randint(1, n_genes)\n",
    "\n",
    "    # Perform crossover based on the crossover mask\n",
    "        offspring = np.where(crossover_mask, sec_parent, first_parent)\n",
    "\n",
    "        return offspring\n",
    "\n",
    "    def mutate_population(self, population, n_mutations):\n",
    "        \"\"\"\n",
    "        Mutates the population by flipping bits randomly.\n",
    "        \"\"\"\n",
    "        mutation_rows, mutation_cols = super(\n",
    "            BinaryGenAlgSolver, self\n",
    "        ).mutate_population(population, n_mutations)\n",
    "\n",
    "        population[mutation_rows, mutation_cols] = np.abs(population - 1)[\n",
    "            mutation_rows, mutation_cols\n",
    "        ]\n",
    "\n",
    "        return population"
   ]
  },
  {
   "cell_type": "code",
   "execution_count": 54,
   "id": "a6058efb",
   "metadata": {},
   "outputs": [],
   "source": [
    "solver = MyBinaryGenAlgSolver(pop_size=10, n_genes=59, mutation_rate=0.025, max_gen=200, selection_rate=0.3)\n"
   ]
  },
  {
   "cell_type": "code",
   "execution_count": 55,
   "id": "6db1fe6a",
   "metadata": {},
   "outputs": [
    {
     "name": "stdout",
     "output_type": "stream",
     "text": [
      "Iteration: 20\n",
      "Best fitness: 0.3711345272062126\n",
      "Iteration: 40\n",
      "Best fitness: 0.3746190507280753\n",
      "Iteration: 60\n",
      "Best fitness: 0.3757940781487837\n",
      "Iteration: 80\n",
      "Best fitness: 0.3769844017434942\n",
      "Iteration: 100\n",
      "Best fitness: 0.3839276255856204\n",
      "Iteration: 120\n",
      "Best fitness: 0.3839276255856204\n",
      "Iteration: 140\n",
      "Best fitness: 0.3839276255856204\n",
      "Iteration: 160\n",
      "Best fitness: 0.3839276255856204\n",
      "Iteration: 180\n",
      "Best fitness: 0.3839276255856204\n",
      "Iteration: 200\n",
      "Best fitness: 0.3839276255856204\n"
     ]
    },
    {
     "data": {
      "image/png": "[encoded data removed]",
      "text/plain": [
       "<Figure size 700x700 with 1 Axes>"
      ]
     },
     "metadata": {},
     "output_type": "display_data"
    },
    {
     "name": "stdout",
     "output_type": "stream",
     "text": [
      "\n",
      "#############################\n",
      "#\t\t\tSTATS\t\t\t#\n",
      "#############################\n",
      "\n",
      "\n",
      "Total running time: 25 minutes, 27 seconds\n",
      "\n",
      "\n",
      "Population size: 10\n",
      "Number variables: 59\n",
      "Selection rate: 0.3\n",
      "Mutation rate: 0.025\n",
      "Number Generations: 200\n",
      "\n",
      "Best fitness: 0.3839276255856204\n",
      "Best individual: [0. 0. 1. 0. 1. 1. 0. 0. 1. 0. 0. 0. 0. 0. 0. 0. 1. 1. 0. 1. 0. 0. 0. 1.\n",
      " 1. 0. 0. 1. 1. 1. 0. 1. 1. 0. 1. 0. 1. 0. 0. 0. 1. 0. 0. 0. 1. 0. 1. 0.\n",
      " 0. 0. 1. 1. 1. 0. 1. 0. 1. 1. 0.]\n",
      "None\n"
     ]
    }
   ],
   "source": [
    "best_solution = solver.solve()\n",
    "print(best_solution)"
   ]
  },
  {
   "cell_type": "code",
   "execution_count": 60,
   "id": "97e01718",
   "metadata": {},
   "outputs": [
    {
     "data": {
      "text/plain": [
       "array([0., 0., 1., 0., 1., 1., 0., 0., 1., 0., 0., 0., 0., 0., 0., 0., 1.,\n",
       "       1., 0., 1., 0., 0., 0., 1., 1., 0., 0., 1., 1., 1., 0., 1., 1., 0.,\n",
       "       1., 0., 1., 0., 0., 0., 1., 0., 0., 0., 1., 0., 1., 0., 0., 0., 1.,\n",
       "       1., 1., 0., 1., 0., 1., 1., 0.])"
      ]
     },
     "execution_count": 60,
     "metadata": {},
     "output_type": "execute_result"
    }
   ],
   "source": [
    "solver.best_individual_\n"
   ]
  },
  {
   "cell_type": "markdown",
   "id": "134f8006",
   "metadata": {},
   "source": [
    "# Random Forest after feature selection"
   ]
  },
  {
   "cell_type": "code",
   "execution_count": 62,
   "id": "325e6127",
   "metadata": {},
   "outputs": [
    {
     "name": "stdout",
     "output_type": "stream",
     "text": [
      "['creatinine', 'glucose', 'bicarbonate', 'admission_type_URGENT', 'rbc', 'pt', 'potassium', 'mcv', 'charlson_score', 'first_careunit_Cardiac Vascular Intensive Care Unit (CVICU)', 'gender', 'first_careunit_Medical/Surgical Intensive Care Unit (MICU/SICU)', 'race_encode_Not Specified', 'admission_type_SURGICAL SAME DAY ADMISSION', 'admission_type_EW EMER.', 'stroke', 'atrial_fibrillation', 'cld', 'admission_type_ELECTIVE', 'copd', 'admission_type_OBSERVATION ADMIT', 'race_encode_Hispanic', 'admission_type_DIRECT EMER.', 'admission_type_EU OBSERVATION', 'race_encode_South American'] 25\n"
     ]
    }
   ],
   "source": [
    "Best_individual = [0., 0., 1., 0., 1., 1., 0., 0., 1., 0., 0., 0., 0., 0., 0., 0., 1.,\n",
    "       1., 0., 1., 0., 0., 0., 1., 1., 0., 0., 1., 1., 1., 0., 1., 1., 0.,\n",
    "       1., 0., 1., 0., 0., 0., 1., 0., 0., 0., 1., 0., 1., 0., 0., 0., 1.,\n",
    "       1., 1., 0., 1., 0., 1., 1., 0.]\n",
    "\n",
    "selected_features_rf = [feature_ranking_total[i] for i, value in enumerate(Best_individual) if value == 1]\n",
    "print(selected_features_rf, len(selected_features_rf))"
   ]
  },
  {
   "cell_type": "code",
   "execution_count": 64,
   "id": "4a69b2d5",
   "metadata": {},
   "outputs": [
    {
     "name": "stdout",
     "output_type": "stream",
     "text": [
      "(14289, 25)\n",
      "(4083, 25)\n",
      "(2042, 25)\n"
     ]
    }
   ],
   "source": [
    "# Reducing feature dimension of train and test data after genetic algorithm feature selection\n",
    "\n",
    "x_train_selected_rf = x_train[selected_features_rf]\n",
    "x_test_selected_rf = x_test[selected_features_rf]\n",
    "x_holdout_selected_rf = x_holdout[selected_features_rf]\n",
    "\n",
    "print(x_train_selected_rf.shape)\n",
    "print(x_test_selected_rf.shape)\n",
    "print(x_holdout_selected_rf.shape)"
   ]
  },
  {
   "cell_type": "markdown",
   "id": "983a54ff",
   "metadata": {},
   "source": [
    "# Kfold cross validation + GridSearchCV for Random Forest"
   ]
  },
  {
   "cell_type": "code",
   "execution_count": 65,
   "id": "1e99639a",
   "metadata": {},
   "outputs": [],
   "source": [
    "from sklearn.model_selection import StratifiedKFold, GridSearchCV, cross_validate\n",
    "from sklearn.metrics import make_scorer, f1_score"
   ]
  },
  {
   "cell_type": "code",
   "execution_count": 66,
   "id": "721c38fd",
   "metadata": {},
   "outputs": [],
   "source": [
    "# Combining X_train and X_test together for this GridSearch\n",
    "\n",
    "X_combined = pd.concat([x_train_selected_rf, x_test_selected_rf], axis=0)\n",
    "\n",
    "y_combined = pd.concat([y_train, y_test], axis=0)"
   ]
  },
  {
   "cell_type": "code",
   "execution_count": 75,
   "id": "2d82c443",
   "metadata": {},
   "outputs": [
    {
     "data": {
      "text/html": [
       "<style>#sk-container-id-3 {color: black;}#sk-container-id-3 pre{padding: 0;}#sk-container-id-3 div.sk-toggleable {background-color: white;}#sk-container-id-3 label.sk-toggleable__label {cursor: pointer;display: block;width: 100%;margin-bottom: 0;padding: 0.3em;box-sizing: border-box;text-align: center;}#sk-container-id-3 label.sk-toggleable__label-arrow:before {content: \"▸\";float: left;margin-right: 0.25em;color: #696969;}#sk-container-id-3 label.sk-toggleable__label-arrow:hover:before {color: black;}#sk-container-id-3 div.sk-estimator:hover label.sk-toggleable__label-arrow:before {color: black;}#sk-container-id-3 div.sk-toggleable__content {max-height: 0;max-width: 0;overflow: hidden;text-align: left;background-color: #f0f8ff;}#sk-container-id-3 div.sk-toggleable__content pre {margin: 0.2em;color: black;border-radius: 0.25em;background-color: #f0f8ff;}#sk-container-id-3 input.sk-toggleable__control:checked~div.sk-toggleable__content {max-height: 200px;max-width: 100%;overflow: auto;}#sk-container-id-3 input.sk-toggleable__control:checked~label.sk-toggleable__label-arrow:before {content: \"▾\";}#sk-container-id-3 div.sk-estimator input.sk-toggleable__control:checked~label.sk-toggleable__label {background-color: #d4ebff;}#sk-container-id-3 div.sk-label input.sk-toggleable__control:checked~label.sk-toggleable__label {background-color: #d4ebff;}#sk-container-id-3 input.sk-hidden--visually {border: 0;clip: rect(1px 1px 1px 1px);clip: rect(1px, 1px, 1px, 1px);height: 1px;margin: -1px;overflow: hidden;padding: 0;position: absolute;width: 1px;}#sk-container-id-3 div.sk-estimator {font-family: monospace;background-color: #f0f8ff;border: 1px dotted black;border-radius: 0.25em;box-sizing: border-box;margin-bottom: 0.5em;}#sk-container-id-3 div.sk-estimator:hover {background-color: #d4ebff;}#sk-container-id-3 div.sk-parallel-item::after {content: \"\";width: 100%;border-bottom: 1px solid gray;flex-grow: 1;}#sk-container-id-3 div.sk-label:hover label.sk-toggleable__label {background-color: #d4ebff;}#sk-container-id-3 div.sk-serial::before {content: \"\";position: absolute;border-left: 1px solid gray;box-sizing: border-box;top: 0;bottom: 0;left: 50%;z-index: 0;}#sk-container-id-3 div.sk-serial {display: flex;flex-direction: column;align-items: center;background-color: white;padding-right: 0.2em;padding-left: 0.2em;position: relative;}#sk-container-id-3 div.sk-item {position: relative;z-index: 1;}#sk-container-id-3 div.sk-parallel {display: flex;align-items: stretch;justify-content: center;background-color: white;position: relative;}#sk-container-id-3 div.sk-item::before, #sk-container-id-3 div.sk-parallel-item::before {content: \"\";position: absolute;border-left: 1px solid gray;box-sizing: border-box;top: 0;bottom: 0;left: 50%;z-index: -1;}#sk-container-id-3 div.sk-parallel-item {display: flex;flex-direction: column;z-index: 1;position: relative;background-color: white;}#sk-container-id-3 div.sk-parallel-item:first-child::after {align-self: flex-end;width: 50%;}#sk-container-id-3 div.sk-parallel-item:last-child::after {align-self: flex-start;width: 50%;}#sk-container-id-3 div.sk-parallel-item:only-child::after {width: 0;}#sk-container-id-3 div.sk-dashed-wrapped {border: 1px dashed gray;margin: 0 0.4em 0.5em 0.4em;box-sizing: border-box;padding-bottom: 0.4em;background-color: white;}#sk-container-id-3 div.sk-label label {font-family: monospace;font-weight: bold;display: inline-block;line-height: 1.2em;}#sk-container-id-3 div.sk-label-container {text-align: center;}#sk-container-id-3 div.sk-container {/* jupyter's `normalize.less` sets `[hidden] { display: none; }` but bootstrap.min.css set `[hidden] { display: none !important; }` so we also need the `!important` here to be able to override the default hidden behavior on the sphinx rendered scikit-learn.org. See: https://github.com/scikit-learn/scikit-learn/issues/21755 */display: inline-block !important;position: relative;}#sk-container-id-3 div.sk-text-repr-fallback {display: none;}</style><div id=\"sk-container-id-3\" class=\"sk-top-container\"><div class=\"sk-text-repr-fallback\"><pre>GridSearchCV(cv=StratifiedKFold(n_splits=5, random_state=None, shuffle=False),\n",
       "             estimator=RandomForestClassifier(random_state=26),\n",
       "             param_grid={&#x27;max_depth&#x27;: array([5, 6, 7, 8, 9]),\n",
       "                         &#x27;min_samples_split&#x27;: array([ 8,  9, 10, 11]),\n",
       "                         &#x27;n_estimators&#x27;: array([ 50, 100, 150])},\n",
       "             scoring=make_scorer(f1_score, average=macro))</pre><b>In a Jupyter environment, please rerun this cell to show the HTML representation or trust the notebook. <br />On GitHub, the HTML representation is unable to render, please try loading this page with nbviewer.org.</b></div><div class=\"sk-container\" hidden><div class=\"sk-item sk-dashed-wrapped\"><div class=\"sk-label-container\"><div class=\"sk-label sk-toggleable\"><input class=\"sk-toggleable__control sk-hidden--visually\" id=\"sk-estimator-id-5\" type=\"checkbox\" ><label for=\"sk-estimator-id-5\" class=\"sk-toggleable__label sk-toggleable__label-arrow\">GridSearchCV</label><div class=\"sk-toggleable__content\"><pre>GridSearchCV(cv=StratifiedKFold(n_splits=5, random_state=None, shuffle=False),\n",
       "             estimator=RandomForestClassifier(random_state=26),\n",
       "             param_grid={&#x27;max_depth&#x27;: array([5, 6, 7, 8, 9]),\n",
       "                         &#x27;min_samples_split&#x27;: array([ 8,  9, 10, 11]),\n",
       "                         &#x27;n_estimators&#x27;: array([ 50, 100, 150])},\n",
       "             scoring=make_scorer(f1_score, average=macro))</pre></div></div></div><div class=\"sk-parallel\"><div class=\"sk-parallel-item\"><div class=\"sk-item\"><div class=\"sk-label-container\"><div class=\"sk-label sk-toggleable\"><input class=\"sk-toggleable__control sk-hidden--visually\" id=\"sk-estimator-id-6\" type=\"checkbox\" ><label for=\"sk-estimator-id-6\" class=\"sk-toggleable__label sk-toggleable__label-arrow\">estimator: RandomForestClassifier</label><div class=\"sk-toggleable__content\"><pre>RandomForestClassifier(random_state=26)</pre></div></div></div><div class=\"sk-serial\"><div class=\"sk-item\"><div class=\"sk-estimator sk-toggleable\"><input class=\"sk-toggleable__control sk-hidden--visually\" id=\"sk-estimator-id-7\" type=\"checkbox\" ><label for=\"sk-estimator-id-7\" class=\"sk-toggleable__label sk-toggleable__label-arrow\">RandomForestClassifier</label><div class=\"sk-toggleable__content\"><pre>RandomForestClassifier(random_state=26)</pre></div></div></div></div></div></div></div></div></div></div>"
      ],
      "text/plain": [
       "GridSearchCV(cv=StratifiedKFold(n_splits=5, random_state=None, shuffle=False),\n",
       "             estimator=RandomForestClassifier(random_state=26),\n",
       "             param_grid={'max_depth': array([5, 6, 7, 8, 9]),\n",
       "                         'min_samples_split': array([ 8,  9, 10, 11]),\n",
       "                         'n_estimators': array([ 50, 100, 150])},\n",
       "             scoring=make_scorer(f1_score, average=macro))"
      ]
     },
     "execution_count": 75,
     "metadata": {},
     "output_type": "execute_result"
    }
   ],
   "source": [
    "stratifiedCV = StratifiedKFold(n_splits=5)\n",
    "\n",
    "scorer = make_scorer(f1_score,average='macro')\n",
    "\n",
    "rf = RandomForestClassifier(\n",
    "    random_state=26, \n",
    ")\n",
    "\n",
    "params = {\n",
    "    'n_estimators': np.arange(50,200,step=50),\n",
    "    'max_depth':np.arange(start=5,stop=10,step=1),\n",
    "    'min_samples_split':np.arange(start=8,stop=12,step=1),\n",
    "}\n",
    "best_rf = GridSearchCV(\n",
    "    rf,\n",
    "    param_grid=params,\n",
    "    scoring=scorer,\n",
    "    cv=stratifiedCV)\n",
    "\n",
    "best_rf.fit(X_combined, y_combined)"
   ]
  },
  {
   "cell_type": "code",
   "execution_count": 76,
   "id": "b24aa932",
   "metadata": {},
   "outputs": [
    {
     "data": {
      "text/plain": [
       "{'max_depth': 9, 'min_samples_split': 10, 'n_estimators': 50}"
      ]
     },
     "execution_count": 76,
     "metadata": {},
     "output_type": "execute_result"
    }
   ],
   "source": [
    "best_rf.best_params_"
   ]
  },
  {
   "cell_type": "code",
   "execution_count": 77,
   "id": "e4a5656e",
   "metadata": {},
   "outputs": [
    {
     "data": {
      "text/plain": [
       "0.2925743769816051"
      ]
     },
     "execution_count": 77,
     "metadata": {},
     "output_type": "execute_result"
    }
   ],
   "source": [
    "best_rf.best_score_"
   ]
  },
  {
   "cell_type": "code",
   "execution_count": 85,
   "id": "d3d12240",
   "metadata": {},
   "outputs": [],
   "source": [
    "# Using cross validation to check metrics and if there is any overfitting\n",
    "\n",
    "best_rf_selected = RandomForestClassifier(\n",
    "    max_depth=9, \n",
    "    min_samples_split=10,\n",
    "    n_estimators=50,\n",
    "    random_state=26, \n",
    ")\n",
    "\n",
    "from sklearn.metrics import make_scorer, precision_score, recall_score, f1_score, accuracy_score\n",
    "\n",
    "scoring = {\n",
    "    'precision_1': make_scorer(precision_score, average=\"macro\"),\n",
    "    'recall_1': make_scorer(recall_score, average=\"macro\"),\n",
    "    'f1_1': make_scorer(f1_score, average=\"macro\"),\n",
    "    'accuracy': make_scorer(accuracy_score)\n",
    "}\n",
    "\n",
    "# Perform cross-validation\n",
    "scores = cross_validate(best_rf_selected, X_combined, y_combined, cv=StratifiedKFold(), scoring=scoring, return_train_score=True)"
   ]
  },
  {
   "cell_type": "code",
   "execution_count": 86,
   "id": "88b26e04",
   "metadata": {},
   "outputs": [
    {
     "data": {
      "text/plain": [
       "{'fit_time': array([0.36888838, 0.37294841, 0.37088561, 0.37051082, 0.37160993]),\n",
       " 'score_time': array([0.02233696, 0.02185988, 0.02233171, 0.02182031, 0.021945  ]),\n",
       " 'test_precision_1': array([0.42021629, 0.39796143, 0.39337756, 0.39075182, 0.42001737]),\n",
       " 'train_precision_1': array([0.69141923, 0.69638901, 0.69759008, 0.71636366, 0.69645311]),\n",
       " 'test_recall_1': array([0.37508509, 0.37208131, 0.36147257, 0.36843908, 0.36117489]),\n",
       " 'train_recall_1': array([0.43862609, 0.43440382, 0.44967915, 0.45048516, 0.43669281]),\n",
       " 'test_f1_1': array([0.30359428, 0.29571352, 0.28717527, 0.29400138, 0.28238744]),\n",
       " 'train_f1_1': array([0.39599065, 0.38614729, 0.41310117, 0.4108796 , 0.39240996]),\n",
       " 'test_accuracy': array([0.45931973, 0.45741497, 0.4458356 , 0.45345672, 0.44828525]),\n",
       " 'train_accuracy': array([0.51997006, 0.51527523, 0.52823513, 0.53027623, 0.51707715])}"
      ]
     },
     "execution_count": 86,
     "metadata": {},
     "output_type": "execute_result"
    }
   ],
   "source": [
    "scores"
   ]
  },
  {
   "cell_type": "code",
   "execution_count": 94,
   "id": "58b5678d",
   "metadata": {},
   "outputs": [
    {
     "name": "stdout",
     "output_type": "stream",
     "text": [
      "              precision    recall  f1-score   support\n",
      "\n",
      "           0       0.48      0.97      0.65      1794\n",
      "           1       0.93      0.07      0.13      1150\n",
      "           2       0.64      0.23      0.34      1139\n",
      "\n",
      "    accuracy                           0.51      4083\n",
      "   macro avg       0.69      0.42      0.37      4083\n",
      "weighted avg       0.65      0.51      0.42      4083\n",
      "\n"
     ]
    }
   ],
   "source": [
    "y_pred_test=best_rf.predict(x_test_selected_rf)\n",
    "y_pred_test=pd.DataFrame(y_pred_test)\n",
    "print(classification_report(y_test,y_pred_test))"
   ]
  },
  {
   "cell_type": "code",
   "execution_count": 95,
   "id": "8e668c11",
   "metadata": {},
   "outputs": [
    {
     "name": "stdout",
     "output_type": "stream",
     "text": [
      "              precision    recall  f1-score   support\n",
      "\n",
      "           0       0.45      0.93      0.60       883\n",
      "           1       0.37      0.01      0.02       614\n",
      "           2       0.43      0.15      0.22       545\n",
      "\n",
      "    accuracy                           0.44      2042\n",
      "   macro avg       0.41      0.36      0.28      2042\n",
      "weighted avg       0.42      0.44      0.33      2042\n",
      "\n"
     ]
    }
   ],
   "source": [
    "from sklearn.metrics import classification_report\n",
    "y_pred_holdout=best_rf.predict(x_holdout_selected_rf)\n",
    "y_pred_holdout=pd.DataFrame(y_pred_holdout)\n",
    "print(classification_report(y_holdout,y_pred_holdout))"
   ]
  },
  {
   "cell_type": "markdown",
   "id": "97304406",
   "metadata": {},
   "source": [
    "## Kfold cross validation + GridSearchCV for XGBoost"
   ]
  },
  {
   "cell_type": "code",
   "execution_count": null,
   "id": "3c64c6e6",
   "metadata": {},
   "outputs": [],
   "source": []
  }
 ],
 "metadata": {
  "kernelspec": {
   "display_name": "Python 3 (ipykernel)",
   "language": "python",
   "name": "python3"
  },
  "language_info": {
   "codemirror_mode": {
    "name": "ipython",
    "version": 3
   },
   "file_extension": ".py",
   "mimetype": "text/x-python",
   "name": "python",
   "nbconvert_exporter": "python",
   "pygments_lexer": "ipython3",
   "version": "3.11.5"
  }
 },
 "nbformat": 4,
 "nbformat_minor": 5
}
